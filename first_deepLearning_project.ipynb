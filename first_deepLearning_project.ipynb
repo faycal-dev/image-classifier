{
 "cells": [
  {
   "cell_type": "code",
   "execution_count": 2,
   "id": "e4e81c85",
   "metadata": {},
   "outputs": [],
   "source": [
    "import tensorflow as tf\n",
    "from tensorflow import keras\n",
    "import matplotlib.pyplot as plt\n",
    "import numpy as np"
   ]
  },
  {
   "cell_type": "code",
   "execution_count": 22,
   "id": "7b75e323",
   "metadata": {},
   "outputs": [
    {
     "data": {
      "text/plain": [
       "[PhysicalDevice(name='/physical_device:CPU:0', device_type='CPU')]"
      ]
     },
     "execution_count": 22,
     "metadata": {},
     "output_type": "execute_result"
    }
   ],
   "source": [
    "tf.config.experimental.list_physical_devices()"
   ]
  },
  {
   "cell_type": "code",
   "execution_count": 37,
   "id": "5b9a8146",
   "metadata": {},
   "outputs": [
    {
     "name": "stdout",
     "output_type": "stream",
     "text": [
      "Downloading data from https://www.cs.toronto.edu/~kriz/cifar-10-python.tar.gz\n",
      "170500096/170498071 [==============================] - 69s 0us/step\n"
     ]
    }
   ],
   "source": [
    "(x_train, y_train), (x_test, y_test) = tf.keras.datasets.cifar10.load_data()"
   ]
  },
  {
   "cell_type": "code",
   "execution_count": 42,
   "id": "da59436d",
   "metadata": {},
   "outputs": [
    {
     "data": {
      "text/plain": [
       "(50000, 32, 32, 3)"
      ]
     },
     "execution_count": 42,
     "metadata": {},
     "output_type": "execute_result"
    }
   ],
   "source": [
    "x_train.shape"
   ]
  },
  {
   "cell_type": "code",
   "execution_count": 43,
   "id": "9a5f7039",
   "metadata": {},
   "outputs": [
    {
     "data": {
      "text/plain": [
       "array([59, 62, 63], dtype=uint8)"
      ]
     },
     "execution_count": 43,
     "metadata": {},
     "output_type": "execute_result"
    }
   ],
   "source": [
    "x_train[0][0][0]"
   ]
  },
  {
   "cell_type": "code",
   "execution_count": 44,
   "id": "40142905",
   "metadata": {},
   "outputs": [
    {
     "data": {
      "text/plain": [
       "(50000, 1)"
      ]
     },
     "execution_count": 44,
     "metadata": {},
     "output_type": "execute_result"
    }
   ],
   "source": [
    "y_train.shape"
   ]
  },
  {
   "cell_type": "code",
   "execution_count": 48,
   "id": "651473f9",
   "metadata": {},
   "outputs": [
    {
     "data": {
      "text/plain": [
       "array([[6],\n",
       "       [9],\n",
       "       [9],\n",
       "       [4],\n",
       "       [1],\n",
       "       [1],\n",
       "       [2],\n",
       "       [7],\n",
       "       [8],\n",
       "       [3]], dtype=uint8)"
      ]
     },
     "execution_count": 48,
     "metadata": {},
     "output_type": "execute_result"
    }
   ],
   "source": [
    "y_train[:10]"
   ]
  },
  {
   "cell_type": "code",
   "execution_count": 51,
   "id": "46e34dd4",
   "metadata": {},
   "outputs": [
    {
     "data": {
      "text/plain": [
       "array([6, 9, 9, 4, 1, 1, 2, 7, 8, 3], dtype=uint8)"
      ]
     },
     "execution_count": 51,
     "metadata": {},
     "output_type": "execute_result"
    }
   ],
   "source": [
    "y_train = y_train.reshape(-1,)\n",
    "# -1 means to let the same number of samples but , means to change the 2 dimension array into one dimension\n",
    "y_train[:10]"
   ]
  },
  {
   "cell_type": "code",
   "execution_count": 52,
   "id": "9ee7e19e",
   "metadata": {},
   "outputs": [
    {
     "data": {
      "text/plain": [
       "<matplotlib.image.AxesImage at 0x1ef01fdd130>"
      ]
     },
     "execution_count": 52,
     "metadata": {},
     "output_type": "execute_result"
    },
    {
     "data": {
      "image/png": "[encoded data removed]",
      "text/plain": [
       "<Figure size 432x288 with 1 Axes>"
      ]
     },
     "metadata": {
      "needs_background": "light"
     },
     "output_type": "display_data"
    }
   ],
   "source": [
    "plt.imshow(x_train[3])"
   ]
  },
  {
   "cell_type": "code",
   "execution_count": 53,
   "id": "7e915956",
   "metadata": {},
   "outputs": [],
   "source": [
    "classes = [\"airplane\",\"automobile\",\"bird\",\"cat\",\"deer\",\"dog\",\"frog\",\"horse\",\"ship\",\"truck\"]"
   ]
  },
  {
   "cell_type": "code",
   "execution_count": 54,
   "id": "b591e93b",
   "metadata": {},
   "outputs": [],
   "source": [
    "# the model work better by scaling the data between 0 - 1\n",
    "x_train_flattend = x_train / 255\n",
    "x_test_flattend = x_test / 255"
   ]
  },
  {
   "cell_type": "code",
   "execution_count": 58,
   "id": "a30e1470",
   "metadata": {},
   "outputs": [
    {
     "name": "stdout",
     "output_type": "stream",
     "text": [
      "Epoch 1/5\n",
      "1563/1563 [==============================] - 115s 74ms/step - loss: 1.8556 - accuracy: 0.3366\n",
      "Epoch 2/5\n",
      "1563/1563 [==============================] - 122s 78ms/step - loss: 1.6547 - accuracy: 0.4138\n",
      "Epoch 3/5\n",
      "1563/1563 [==============================] - 114s 73ms/step - loss: 1.5653 - accuracy: 0.4463\n",
      "Epoch 4/5\n",
      "1563/1563 [==============================] - 114s 73ms/step - loss: 1.5039 - accuracy: 0.4690\n",
      "Epoch 5/5\n",
      "1563/1563 [==============================] - 114s 73ms/step - loss: 1.4539 - accuracy: 0.4868s - loss: 1.4538 -  - ETA: 1s - loss: 1.4537 -  - ETA: \n"
     ]
    },
    {
     "data": {
      "text/plain": [
       "<tensorflow.python.keras.callbacks.History at 0x1ef02515a30>"
      ]
     },
     "execution_count": 58,
     "metadata": {},
     "output_type": "execute_result"
    }
   ],
   "source": [
    "ann = keras.models.Sequential([\n",
    "        keras.layers.Flatten(input_shape=(32,32,3)),\n",
    "        keras.layers.Dense(3000, activation='relu'),\n",
    "        keras.layers.Dense(1000, activation='relu'),\n",
    "        keras.layers.Dense(10, activation='sigmoid')    \n",
    "    ])\n",
    "\n",
    "ann.compile(optimizer='SGD',\n",
    "              loss='sparse_categorical_crossentropy',\n",
    "              metrics=['accuracy'])\n",
    "\n",
    "ann.fit(x_train_flattend, y_train, epochs=5)\n",
    "# sparse_categorical_crossentropy is used when the output is catigorical [1 or 2 or 3 ....]\n",
    "# we use categorical_crossentropy when the output is categorical and hotencoded"
   ]
  },
  {
   "cell_type": "code",
   "execution_count": null,
   "id": "da7e9202",
   "metadata": {},
   "outputs": [],
   "source": [
    "# ann is doing pretty bad and take a lot of time coputing so we will use cnn which is only adding more layers \n",
    "# for filtring the important data expl : nose and eyes in the face\n",
    "# softmax is an activation functuion (sigmoid returns probability expl: 0.45 ==> softmax returns 0.45 / sum of probabilitys)\n",
    "# in cnn we have convolutional layer which detect the important parts in the image \n",
    "# and we have pooling layer which reduces the size of the image (it helps the model to detect the object \n",
    "# even when they change their place)\n",
    "# the beaty of cnn is that he fugurs ous the best filters on his own you just need to give the size and number of filters\n",
    "# we often use relu activation for convolutional layers\n",
    "# resum : convolution layer(relu) => pooling layer (relu) => dense layers  we can have as many (con + poling) layers as we want "
   ]
  },
  {
   "cell_type": "code",
   "execution_count": 59,
   "id": "e4098530",
   "metadata": {},
   "outputs": [
    {
     "name": "stdout",
     "output_type": "stream",
     "text": [
      "Epoch 1/5\n",
      "1563/1563 [==============================] - 38s 25ms/step - loss: 1.9209 - accuracy: 0.3128\n",
      "Epoch 2/5\n",
      "1563/1563 [==============================] - 39s 25ms/step - loss: 1.5905 - accuracy: 0.4413\n",
      "Epoch 3/5\n",
      "1563/1563 [==============================] - 38s 24ms/step - loss: 1.3994 - accuracy: 0.5053\n",
      "Epoch 4/5\n",
      "1563/1563 [==============================] - 37s 24ms/step - loss: 1.2855 - accuracy: 0.5466\n",
      "Epoch 5/5\n",
      "1563/1563 [==============================] - 38s 24ms/step - loss: 1.2126 - accuracy: 0.5724\n"
     ]
    },
    {
     "data": {
      "text/plain": [
       "<tensorflow.python.keras.callbacks.History at 0x1ef022efc70>"
      ]
     },
     "execution_count": 59,
     "metadata": {},
     "output_type": "execute_result"
    }
   ],
   "source": [
    "cnn = keras.models.Sequential([\n",
    "        keras.layers.Conv2D(filters=32, kernel_size=(3,3), activation='relu', input_shape=(32,32,3)), \n",
    "#we can add pading=\"same\" in Conv2D to add 1 px of padding so that the corner pixels don't get less attention than other center pixels  \n",
    "# we can add strides=(x,x) to specifiy the steps of the filters in the image    \n",
    "        keras.layers.MaxPooling2D((2,2)),\n",
    "        keras.layers.Flatten(),\n",
    "        keras.layers.Dense(64, activation='relu'),\n",
    "        keras.layers.Dense(10, activation='softmax')    \n",
    "    ])\n",
    "cnn.compile(optimizer='SGD',\n",
    "              loss='sparse_categorical_crossentropy',\n",
    "              metrics=['accuracy'])\n",
    "cnn.fit(x_train_flattend, y_train, epochs=5)"
   ]
  },
  {
   "cell_type": "code",
   "execution_count": 60,
   "id": "ab5bcf52",
   "metadata": {},
   "outputs": [
    {
     "name": "stdout",
     "output_type": "stream",
     "text": [
      "313/313 [==============================] - 3s 8ms/step - loss: 1.2739 - accuracy: 0.5458\n"
     ]
    },
    {
     "data": {
      "text/plain": [
       "[1.2738922834396362, 0.545799970626831]"
      ]
     },
     "execution_count": 60,
     "metadata": {},
     "output_type": "execute_result"
    }
   ],
   "source": [
    "cnn.evaluate(x_test_flattend,y_test)"
   ]
  },
  {
   "cell_type": "code",
   "execution_count": 61,
   "id": "64400cc6",
   "metadata": {},
   "outputs": [
    {
     "name": "stdout",
     "output_type": "stream",
     "text": [
      "Epoch 1/5\n",
      "1563/1563 [==============================] - 57s 37ms/step - loss: 1.6109 - accuracy: 0.4086\n",
      "Epoch 2/5\n",
      "1563/1563 [==============================] - 55s 36ms/step - loss: 1.2751 - accuracy: 0.5480\n",
      "Epoch 3/5\n",
      "1563/1563 [==============================] - 52s 33ms/step - loss: 1.1492 - accuracy: 0.5925\n",
      "Epoch 4/5\n",
      "1563/1563 [==============================] - 51s 32ms/step - loss: 1.0759 - accuracy: 0.6214\n",
      "Epoch 5/5\n",
      "1563/1563 [==============================] - 51s 33ms/step - loss: 1.0138 - accuracy: 0.6439\n"
     ]
    },
    {
     "data": {
      "text/plain": [
       "<tensorflow.python.keras.callbacks.History at 0x1ef03919d30>"
      ]
     },
     "execution_count": 61,
     "metadata": {},
     "output_type": "execute_result"
    }
   ],
   "source": [
    "cnn = keras.models.Sequential([\n",
    "        keras.layers.Conv2D(filters=32, kernel_size=(3,3), activation='relu', input_shape=(32,32,3)),\n",
    "        keras.layers.MaxPooling2D((2,2)),\n",
    "        keras.layers.Conv2D(filters=32, kernel_size=(3,3), activation='relu', input_shape=(32,32,3)),\n",
    "        keras.layers.MaxPooling2D((2,2)),\n",
    "        keras.layers.Conv2D(filters=32, kernel_size=(3,3), activation='relu', input_shape=(32,32,3)),\n",
    "        keras.layers.MaxPooling2D((2,2)),\n",
    "        keras.layers.Flatten(),\n",
    "        keras.layers.Dense(64, activation='relu'),\n",
    "        keras.layers.Dense(10, activation='softmax')    \n",
    "    ])\n",
    "cnn.compile(optimizer='adam',\n",
    "              loss='sparse_categorical_crossentropy',\n",
    "              metrics=['accuracy'])\n",
    "cnn.fit(x_train_flattend, y_train, epochs=5)"
   ]
  },
  {
   "cell_type": "code",
   "execution_count": 62,
   "id": "2d57f15f",
   "metadata": {},
   "outputs": [
    {
     "name": "stdout",
     "output_type": "stream",
     "text": [
      "313/313 [==============================] - 3s 9ms/step - loss: 1.0180 - accuracy: 0.6430\n"
     ]
    },
    {
     "data": {
      "text/plain": [
       "[1.0179697275161743, 0.6430000066757202]"
      ]
     },
     "execution_count": 62,
     "metadata": {},
     "output_type": "execute_result"
    }
   ],
   "source": [
    "cnn.evaluate(x_test_flattend,y_test)"
   ]
  },
  {
   "cell_type": "code",
   "execution_count": 65,
   "id": "5f7d825c",
   "metadata": {},
   "outputs": [
    {
     "data": {
      "text/plain": [
       "array([[7.62322312e-03, 7.95053411e-03, 2.12426949e-02, 4.34327722e-01,\n",
       "        4.65122471e-03, 1.17440395e-01, 6.51714355e-02, 2.46949680e-03,\n",
       "        3.32866132e-01, 6.25707768e-03],\n",
       "       [5.76005317e-02, 1.32180918e-02, 1.13186121e-04, 1.06757143e-05,\n",
       "        3.11320036e-05, 2.21946365e-07, 2.57477154e-06, 1.34315924e-05,\n",
       "        9.28135037e-01, 8.75095895e-04],\n",
       "       [7.62696639e-02, 3.85497585e-02, 5.17795235e-03, 3.28257796e-03,\n",
       "        1.69489568e-03, 3.25595349e-04, 4.83870332e-04, 9.55309311e-04,\n",
       "        8.62444103e-01, 1.08162696e-02],\n",
       "       [4.02486414e-01, 2.55424194e-02, 3.41182649e-02, 1.12752542e-02,\n",
       "        2.40827212e-03, 5.94734622e-04, 9.89043037e-04, 2.47937278e-03,\n",
       "        5.05677044e-01, 1.44291762e-02],\n",
       "       [2.74343562e-04, 2.72338308e-04, 4.84900177e-02, 3.62176299e-02,\n",
       "        6.03853881e-01, 1.00189531e-02, 3.00365180e-01, 3.92118905e-04,\n",
       "        7.40385149e-05, 4.14761889e-05]], dtype=float32)"
      ]
     },
     "execution_count": 65,
     "metadata": {},
     "output_type": "execute_result"
    }
   ],
   "source": [
    "y_pred = cnn.predict(x_test_flattend)\n",
    "y_pred[:5]"
   ]
  },
  {
   "cell_type": "code",
   "execution_count": 66,
   "id": "a474f5e2",
   "metadata": {},
   "outputs": [
    {
     "data": {
      "text/plain": [
       "[3, 8, 8, 8, 4]"
      ]
     },
     "execution_count": 66,
     "metadata": {},
     "output_type": "execute_result"
    }
   ],
   "source": [
    "y_classes = [np.argmax(element) for element in y_pred]\n",
    "y_classes[:5]"
   ]
  },
  {
   "cell_type": "code",
   "execution_count": 78,
   "id": "1802dda8",
   "metadata": {},
   "outputs": [
    {
     "data": {
      "image/png": "[encoded data removed]",
      "text/plain": [
       "<Figure size 1080x144 with 1 Axes>"
      ]
     },
     "metadata": {
      "needs_background": "light"
     },
     "output_type": "display_data"
    }
   ],
   "source": [
    "def plot_sample(X, y, index):\n",
    "    plt.figure(figsize = (15,2))\n",
    "    plt.imshow(X[index])\n",
    "    plt.xlabel(classes[y[index]])\n",
    "y_test = y_test.reshape(-1,)    \n",
    "plot_sample(x_test_flattend, y_test,1)"
   ]
  },
  {
   "cell_type": "code",
   "execution_count": 79,
   "id": "e9ca8d48",
   "metadata": {},
   "outputs": [
    {
     "data": {
      "text/plain": [
       "'ship'"
      ]
     },
     "execution_count": 79,
     "metadata": {},
     "output_type": "execute_result"
    }
   ],
   "source": [
    "classes[y_classes[1]]"
   ]
  },
  {
   "cell_type": "code",
   "execution_count": null,
   "id": "b7980c56",
   "metadata": {},
   "outputs": [],
   "source": []
  }
 ],
 "metadata": {
  "kernelspec": {
   "display_name": "Python 3 (ipykernel)",
   "language": "python",
   "name": "python3"
  },
  "language_info": {
   "codemirror_mode": {
    "name": "ipython",
    "version": 3
   },
   "file_extension": ".py",
   "mimetype": "text/x-python",
   "name": "python",
   "nbconvert_exporter": "python",
   "pygments_lexer": "ipython3",
   "version": "3.8.8"
  }
 },
 "nbformat": 4,
 "nbformat_minor": 5
}
